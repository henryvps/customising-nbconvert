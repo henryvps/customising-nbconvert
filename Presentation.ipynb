{
 "cells": [
  {
   "cell_type": "markdown",
   "metadata": {
    "slideshow": {
     "slide_type": "slide"
    }
   },
   "source": [
    "<h1 style=\"text-align: center\">Customising nbconvert</h1>\n",
    "\n",
    "<h3 style=\"text-align: center\">How to turn Jupyter notebooks into anything you want</h3>\n",
    "\n",
    "<p style=\"font-weight:bold; text-align: center\">Thomas Kluyver & Min Ragan-Kelley</p>\n",
    "\n",
    "<p style=\"text-align: center\">PyData London 2016</p>"
   ]
  },
  {
   "cell_type": "markdown",
   "metadata": {
    "slideshow": {
     "slide_type": "slide"
    }
   },
   "source": [
    "## Introducing nbconvert\n",
    "\n",
    "![nbconvert flow chart](nbconvert.png)"
   ]
  },
  {
   "cell_type": "markdown",
   "metadata": {
    "slideshow": {
     "slide_type": "slide"
    }
   },
   "source": [
    "## Nbconvert at the command line\n",
    "\n",
    "With files:\n",
    "\n",
    "    jupyter nbconvert --to slides Presentation.ipynb\n",
    "    # This creates Presentation.html\n",
    "\n",
    "With pipes:\n",
    "\n",
    "    ... | jupyter nbconvert --stdin --execute --to notebook --stdout | ..."
   ]
  },
  {
   "cell_type": "markdown",
   "metadata": {
    "slideshow": {
     "slide_type": "slide"
    }
   },
   "source": [
    "## Nbconvert as a Python API"
   ]
  },
  {
   "cell_type": "code",
   "execution_count": 22,
   "metadata": {
    "collapsed": false
   },
   "outputs": [
    {
     "name": "stdout",
     "output_type": "stream",
     "text": [
      "Nbconvert as a Python API\n",
      "-------------------------\n",
      "\n",
      ".. code:: python\n",
      "\n",
      "    import nbformat\n",
      "    from nbconvert.exporters import MarkdownExporter\n",
      "    \n",
      "    nb = nbformat.read('Presentation.ipynb', as_ver\n"
     ]
    }
   ],
   "source": [
    "import nbformat\n",
    "from nbconvert.exporters import RSTExporter\n",
    "\n",
    "nb = nbformat.read('Presentation.ipynb', as_version=4)\n",
    "rst, resources = RSTExporter().from_notebook_node(nb)\n",
    "slide_start = rst.find('Nbconvert as a Python API')\n",
    "print(rst[slide_start:slide_start+200])"
   ]
  },
  {
   "cell_type": "markdown",
   "metadata": {},
   "source": [
    "nbparameterise demo"
   ]
  },
  {
   "cell_type": "markdown",
   "metadata": {},
   "source": [
    "## Nbconvert as a web service"
   ]
  },
  {
   "cell_type": "code",
   "execution_count": 21,
   "metadata": {
    "collapsed": false,
    "slideshow": {
     "slide_type": "slide"
    }
   },
   "outputs": [
    {
     "data": {
      "text/html": [
       "\n",
       "        <iframe\n",
       "            width=\"800\"\n",
       "            height=\"600\"\n",
       "            src=\"http://nbviewer.jupyter.org/url/norvig.com/ipython/Countdown.ipynb\"\n",
       "            frameborder=\"0\"\n",
       "            allowfullscreen\n",
       "        ></iframe>\n",
       "        "
      ],
      "text/plain": [
       "<IPython.lib.display.IFrame at 0x7ffbdd93e518>"
      ]
     },
     "execution_count": 21,
     "metadata": {},
     "output_type": "execute_result"
    }
   ],
   "source": [
    "from IPython.display import IFrame\n",
    "IFrame('http://nbviewer.jupyter.org/url/norvig.com/ipython/Countdown.ipynb', width=800, height=600)"
   ]
  },
  {
   "cell_type": "markdown",
   "metadata": {
    "slideshow": {
     "slide_type": "slide"
    }
   },
   "source": [
    "## Custom templates"
   ]
  },
  {
   "cell_type": "code",
   "execution_count": 38,
   "metadata": {
    "collapsed": false
   },
   "outputs": [
    {
     "data": {
      "text/html": [
       "\n",
       "        <iframe\n",
       "            width=\"750\"\n",
       "            height=\"600\"\n",
       "            src=\"http://nbconvert.readthedocs.io/en/latest/customizing.html#Template-structure\"\n",
       "            frameborder=\"0\"\n",
       "            allowfullscreen\n",
       "        ></iframe>\n",
       "        "
      ],
      "text/plain": [
       "<IPython.lib.display.IFrame at 0x7ffbdd950908>"
      ]
     },
     "execution_count": 38,
     "metadata": {},
     "output_type": "execute_result"
    }
   ],
   "source": [
    "IFrame('http://nbconvert.readthedocs.io/en/latest/customizing.html#Template-structure', width=750, height=600)"
   ]
  },
  {
   "cell_type": "code",
   "execution_count": null,
   "metadata": {
    "collapsed": true
   },
   "outputs": [],
   "source": []
  }
 ],
 "metadata": {
  "celltoolbar": "Slideshow",
  "kernelspec": {
   "display_name": "Python 3",
   "language": "python",
   "name": "python3"
  },
  "language_info": {
   "codemirror_mode": {
    "name": "ipython",
    "version": 3
   },
   "file_extension": ".py",
   "mimetype": "text/x-python",
   "name": "python",
   "nbconvert_exporter": "python",
   "pygments_lexer": "ipython3",
   "version": "3.4.3"
  }
 },
 "nbformat": 4,
 "nbformat_minor": 0
}
