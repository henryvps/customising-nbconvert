{
 "cells": [
  {
   "cell_type": "markdown",
   "metadata": {
    "slideshow": {
     "slide_type": "slide"
    }
   },
   "source": [
    "<h1 style=\"text-align: center\">Customising nbconvert</h1>\n",
    "\n",
    "<h3 style=\"text-align: center\">How to turn Jupyter notebooks into anything you want</h3>\n",
    "\n",
    "---\n",
    "\n",
    "<p style=\"font-weight:bold; text-align: center\">Thomas Kluyver & Min Ragan-Kelley</p>\n",
    "\n",
    "<p style=\"text-align: center\">PyData London 2016</p>\n",
    "\n",
    "<p style=\"text-align: center; font-style: italic;\">Github: takluyver/customising-nbconvert</p>\n",
    "\n",
    "<style>\n",
    ".reveal pre code {\n",
    "    padding: 5px;\n",
    "    background-color: #F0F0F0;\n",
    "    color: #1C2B9E;\n",
    "}\n",
    "\n",
    ".reveal code {\n",
    "    color: #047152;\n",
    "}\n",
    "</style>"
   ]
  },
  {
   "cell_type": "markdown",
   "metadata": {
    "slideshow": {
     "slide_type": "slide"
    }
   },
   "source": [
    "## Jupyter and IPython\n",
    "\n",
    "**Jupyter** is the language agnostic parts:\n",
    "\n",
    "- Kernel messaging protocol\n",
    "- Notebook format & web interface\n",
    "- JupyterHub, Nbviewer, Nbgrader...\n",
    "\n",
    "**IPython** is interactive tools for Python:\n",
    "\n",
    " - Python kernel (execution, introspection, completion)\n",
    " - `%magic`,  `!system`\n",
    " - `ipython` terminal shell"
   ]
  },
  {
   "cell_type": "markdown",
   "metadata": {
    "slideshow": {
     "slide_type": "slide"
    }
   },
   "source": [
    "## Introducing nbconvert\n",
    "\n",
    "![nbconvert flow chart](nbconvert.png)"
   ]
  },
  {
   "cell_type": "markdown",
   "metadata": {
    "slideshow": {
     "slide_type": "slide"
    }
   },
   "source": [
    "## Nbconvert at the command line\n",
    "\n",
    "With files:\n",
    "\n",
    "    jupyter nbconvert --to slides Presentation.ipynb\n",
    "    # This creates Presentation.html\n",
    "\n",
    "With pipes:\n",
    "\n",
    "    ... | jupyter nbconvert --stdin --execute --to notebook --stdout | ..."
   ]
  },
  {
   "cell_type": "markdown",
   "metadata": {
    "slideshow": {
     "slide_type": "slide"
    }
   },
   "source": [
    "## Aside: downgrading notebooks\n",
    "\n",
    "If your advisor refuses to upgrade:\n",
    "\n",
    "    jupyter nbconvert --to notebook --nbformat 3 Presentation.ipynb\n",
    "\n",
    "Saves `Presentation.v3.ipynb`"
   ]
  },
  {
   "cell_type": "markdown",
   "metadata": {
    "slideshow": {
     "slide_type": "slide"
    }
   },
   "source": [
    "## Nbconvert as a Python API"
   ]
  },
  {
   "cell_type": "code",
   "execution_count": 22,
   "metadata": {
    "collapsed": false
   },
   "outputs": [
    {
     "name": "stdout",
     "output_type": "stream",
     "text": [
      "Nbconvert as a Python API\n",
      "-------------------------\n",
      "\n",
      ".. code:: python\n",
      "\n",
      "    import nbformat\n",
      "    from nbconvert.exporters import MarkdownExporter\n",
      "    \n",
      "    nb = nbformat.read('Presentation.ipynb', as_ver\n"
     ]
    }
   ],
   "source": [
    "import nbformat\n",
    "from nbconvert.exporters import RSTExporter\n",
    "\n",
    "nb = nbformat.read('Presentation.ipynb', as_version=4)\n",
    "rst, resources = RSTExporter().from_notebook_node(nb)\n",
    "slide_start = rst.find('Nbconvert as a Python API')\n",
    "print(rst[slide_start:slide_start+200])"
   ]
  },
  {
   "cell_type": "markdown",
   "metadata": {},
   "source": [
    "Nbparameterise [sample notebook](http://nbviewer.jupyter.org/github/takluyver/nbparameterise/blob/master/examples/Stock%20display.ipynb) and [demo](http://localhost:3131/)"
   ]
  },
  {
   "cell_type": "markdown",
   "metadata": {
    "slideshow": {
     "slide_type": "slide"
    }
   },
   "source": [
    "## Nbconvert as a web service"
   ]
  },
  {
   "cell_type": "code",
   "execution_count": 21,
   "metadata": {
    "collapsed": false,
    "scrolled": false,
    "slideshow": {
     "slide_type": "-"
    }
   },
   "outputs": [
    {
     "data": {
      "text/html": [
       "\n",
       "        <iframe\n",
       "            width=\"800\"\n",
       "            height=\"600\"\n",
       "            src=\"http://nbviewer.jupyter.org/url/norvig.com/ipython/Countdown.ipynb\"\n",
       "            frameborder=\"0\"\n",
       "            allowfullscreen\n",
       "        ></iframe>\n",
       "        "
      ],
      "text/plain": [
       "<IPython.lib.display.IFrame at 0x7ffbdd93e518>"
      ]
     },
     "execution_count": 21,
     "metadata": {},
     "output_type": "execute_result"
    }
   ],
   "source": [
    "from IPython.display import IFrame\n",
    "IFrame('http://nbviewer.jupyter.org/url/norvig.com/ipython/Countdown.ipynb', width=800, height=600)"
   ]
  },
  {
   "cell_type": "markdown",
   "metadata": {
    "slideshow": {
     "slide_type": "slide"
    }
   },
   "source": [
    "## Templates"
   ]
  },
  {
   "cell_type": "code",
   "execution_count": 44,
   "metadata": {
    "collapsed": false
   },
   "outputs": [
    {
     "data": {
      "text/html": [
       "\n",
       "        <iframe\n",
       "            width=\"800\"\n",
       "            height=\"600\"\n",
       "            src=\"template_structure.html\"\n",
       "            frameborder=\"0\"\n",
       "            allowfullscreen\n",
       "        ></iframe>\n",
       "        "
      ],
      "text/plain": [
       "<IPython.lib.display.IFrame at 0x7ffbdd8cf470>"
      ]
     },
     "execution_count": 44,
     "metadata": {},
     "output_type": "execute_result"
    }
   ],
   "source": [
    "from IPython.display import IFrame\n",
    "IFrame(src='template_structure.html', width=800, height=600)"
   ]
  },
  {
   "cell_type": "markdown",
   "metadata": {
    "slideshow": {
     "slide_type": "slide"
    }
   },
   "source": [
    "## Custom templates"
   ]
  },
  {
   "cell_type": "markdown",
   "metadata": {},
   "source": [
    "    {%- extends 'full.tpl' -%}\n",
    "    \n",
    "    {%- block markdowncell -%}\n",
    "      <div style=\"background-color: hsl(85, 86%, 76%);\">\n",
    "        {# super() means 'put here whatever the parent template does for this block' #}\n",
    "        {{ super() }}\n",
    "      </div>\n",
    "    {%- endblock markdowncell -%}\n",
    "\n",
    "Demos:\n",
    "\n",
    "- Make it pop: [template](https://github.com/takluyver/customising-nbconvert/blob/master/templates/makeitpop.tpl), [result](templates/makeitpop.html)\n",
    "- Foldable cells: [template](https://github.com/takluyver/customising-nbconvert/blob/master/templates/foldcode.tpl), [result](templates/foldcode.html)"
   ]
  },
  {
   "cell_type": "markdown",
   "metadata": {
    "slideshow": {
     "slide_type": "slide"
    }
   },
   "source": [
    "## Templates using metadata\n",
    "\n",
    "`cell` is accessible as a variable inside relevant blocks.\n",
    "\n",
    "In a Latex template:\n",
    "    \n",
    "    ((* block input_group *))\n",
    "      ((*- if not cell.metadata.get('nbconvert', {}).get('hide_code', False) -*))\n",
    "        ((( super() )))\n",
    "      ((*- endif -*))\n",
    "    ((* endblock input_group *))\n",
    "\n",
    "Exporting to slides uses metadata."
   ]
  },
  {
   "cell_type": "markdown",
   "metadata": {
    "slideshow": {
     "slide_type": "slide"
    }
   },
   "source": [
    "## Custom exporters\n",
    "\n",
    "Exporters are more powerful than templates\n",
    "\n",
    "* `NotebookExporter` uses nbformat\n",
    "* `PDFExporter` extends `LatexExporter`: fills template, runs Latex\n",
    "* Another PDF exporter could use Reportlab, or create HTML and 'print' to PDF\n",
    "\n",
    "Inherit from `nbconvert.Exporter` or `nbconvert.TemplateExporter`:"
   ]
  },
  {
   "cell_type": "code",
   "execution_count": 40,
   "metadata": {
    "collapsed": false,
    "slideshow": {
     "slide_type": "-"
    }
   },
   "outputs": [],
   "source": [
    "from nbconvert import Exporter\n",
    "\n",
    "class NewFormatExporter(Exporter):\n",
    "    output_mimetype = 'application/newformat'\n",
    "\n",
    "    def _file_extension_default(self):\n",
    "        return '.nf'\n",
    "\n",
    "    def from_notebook_node(self, nb, resources=None):\n",
    "        # nb is a notebook object: use nb.metadata, nb.cells[0], etc.\n",
    "        # resources, if passed, is a dictionary with extra information\n",
    "        ...\n",
    "        return output, resources"
   ]
  },
  {
   "cell_type": "markdown",
   "metadata": {
    "slideshow": {
     "slide_type": "slide"
    }
   },
   "source": [
    "## Shipping custom exporters\n",
    "\n",
    "Import path on the command line:\n",
    "\n",
    "    nbconvert --to tpllib.MyExporter ...\n",
    "\n",
    "-----\n",
    "Or use entry points:\n",
    "\n",
    "    [nbconvert.exporters]\n",
    "    detail = mymodule:DetailExporter\n",
    "\n",
    "Then:\n",
    "\n",
    "    nbconvert --to detail ..."
   ]
  },
  {
   "cell_type": "markdown",
   "metadata": {
    "slideshow": {
     "slide_type": "slide"
    }
   },
   "source": [
    "<h1 style=\"text-align: center\">Questions?</h1>\n",
    "\n",
    "\n",
    "---\n",
    "\n",
    "<p style=\"text-align: center; font-style: italic;\">Github: takluyver/customising-nbconvert</p>"
   ]
  }
 ],
 "metadata": {
  "celltoolbar": "Slideshow",
  "kernelspec": {
   "display_name": "Python 3",
   "language": "python",
   "name": "python3"
  },
  "language_info": {
   "codemirror_mode": {
    "name": "ipython",
    "version": 3
   },
   "file_extension": ".py",
   "mimetype": "text/x-python",
   "name": "python",
   "nbconvert_exporter": "python",
   "pygments_lexer": "ipython3",
   "version": "3.4.3"
  }
 },
 "nbformat": 4,
 "nbformat_minor": 1
}
